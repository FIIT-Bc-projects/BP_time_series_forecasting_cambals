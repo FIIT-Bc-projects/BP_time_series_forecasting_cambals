{
 "cells": [
  {
   "attachments": {},
   "cell_type": "markdown",
   "metadata": {},
   "source": [
    "### Imports"
   ]
  },
  {
   "cell_type": "code",
   "execution_count": 24,
   "metadata": {},
   "outputs": [],
   "source": [
    "import tensorflow as tf\n",
    "import matplotlib\n",
    "import matplotlib.pyplot as plt\n",
    "import numpy as np\n",
    "import pandas as pd\n",
    "import pydot\n",
    "import seaborn as sns\n",
    "from tensorflow.keras.layers import Input, LSTM, Dense, Dropout\n",
    "from sklearn.base import BaseEstimator, TransformerMixin\n",
    "from sklearn.preprocessing import MinMaxScaler\n",
    "from statsmodels.tsa.seasonal import STL\n",
    "from pandas.tseries.holiday import USFederalHolidayCalendar\n",
    "from pandas.tseries.offsets import CustomBusinessDay"
   ]
  },
  {
   "cell_type": "code",
   "execution_count": 27,
   "metadata": {},
   "outputs": [
    {
     "data": {
      "text/html": [
       "<div>\n",
       "<style scoped>\n",
       "    .dataframe tbody tr th:only-of-type {\n",
       "        vertical-align: middle;\n",
       "    }\n",
       "\n",
       "    .dataframe tbody tr th {\n",
       "        vertical-align: top;\n",
       "    }\n",
       "\n",
       "    .dataframe thead th {\n",
       "        text-align: right;\n",
       "    }\n",
       "</style>\n",
       "<table border=\"1\" class=\"dataframe\">\n",
       "  <thead>\n",
       "    <tr style=\"text-align: right;\">\n",
       "      <th></th>\n",
       "      <th>PM10 Concentration</th>\n",
       "      <th>PM2.5 Concentration</th>\n",
       "      <th>CO Concentration</th>\n",
       "      <th>NO2 Concentration</th>\n",
       "    </tr>\n",
       "  </thead>\n",
       "  <tbody>\n",
       "    <tr>\n",
       "      <th>0</th>\n",
       "      <td>38.942000</td>\n",
       "      <td>39.314600</td>\n",
       "      <td>0.461680</td>\n",
       "      <td>21.605600</td>\n",
       "    </tr>\n",
       "    <tr>\n",
       "      <th>1</th>\n",
       "      <td>52.889000</td>\n",
       "      <td>39.314600</td>\n",
       "      <td>0.432680</td>\n",
       "      <td>21.186900</td>\n",
       "    </tr>\n",
       "    <tr>\n",
       "      <th>2</th>\n",
       "      <td>37.007000</td>\n",
       "      <td>37.668000</td>\n",
       "      <td>0.392080</td>\n",
       "      <td>16.284500</td>\n",
       "    </tr>\n",
       "    <tr>\n",
       "      <th>3</th>\n",
       "      <td>35.837000</td>\n",
       "      <td>37.333000</td>\n",
       "      <td>0.386280</td>\n",
       "      <td>17.324600</td>\n",
       "    </tr>\n",
       "    <tr>\n",
       "      <th>4</th>\n",
       "      <td>34.408000</td>\n",
       "      <td>29.130000</td>\n",
       "      <td>0.363080</td>\n",
       "      <td>15.565600</td>\n",
       "    </tr>\n",
       "    <tr>\n",
       "      <th>...</th>\n",
       "      <td>...</td>\n",
       "      <td>...</td>\n",
       "      <td>...</td>\n",
       "      <td>...</td>\n",
       "    </tr>\n",
       "    <tr>\n",
       "      <th>26300</th>\n",
       "      <td>20.642903</td>\n",
       "      <td>13.122164</td>\n",
       "      <td>0.361663</td>\n",
       "      <td>29.192009</td>\n",
       "    </tr>\n",
       "    <tr>\n",
       "      <th>26301</th>\n",
       "      <td>21.812805</td>\n",
       "      <td>14.244807</td>\n",
       "      <td>0.383440</td>\n",
       "      <td>30.921196</td>\n",
       "    </tr>\n",
       "    <tr>\n",
       "      <th>26302</th>\n",
       "      <td>21.234059</td>\n",
       "      <td>13.375752</td>\n",
       "      <td>0.361133</td>\n",
       "      <td>29.743226</td>\n",
       "    </tr>\n",
       "    <tr>\n",
       "      <th>26303</th>\n",
       "      <td>22.205407</td>\n",
       "      <td>14.307335</td>\n",
       "      <td>0.379205</td>\n",
       "      <td>31.180601</td>\n",
       "    </tr>\n",
       "    <tr>\n",
       "      <th>26304</th>\n",
       "      <td>22.574522</td>\n",
       "      <td>14.661341</td>\n",
       "      <td>0.386072</td>\n",
       "      <td>31.726808</td>\n",
       "    </tr>\n",
       "  </tbody>\n",
       "</table>\n",
       "<p>26305 rows × 4 columns</p>\n",
       "</div>"
      ],
      "text/plain": [
       "       PM10 Concentration  ...  NO2 Concentration\n",
       "0               38.942000  ...          21.605600\n",
       "1               52.889000  ...          21.186900\n",
       "2               37.007000  ...          16.284500\n",
       "3               35.837000  ...          17.324600\n",
       "4               34.408000  ...          15.565600\n",
       "...                   ...  ...                ...\n",
       "26300           20.642903  ...          29.192009\n",
       "26301           21.812805  ...          30.921196\n",
       "26302           21.234059  ...          29.743226\n",
       "26303           22.205407  ...          31.180601\n",
       "26304           22.574522  ...          31.726808\n",
       "\n",
       "[26305 rows x 4 columns]"
      ]
     },
     "execution_count": 27,
     "metadata": {},
     "output_type": "execute_result"
    }
   ],
   "source": [
    "df = pd.read_csv('ready_data.csv')\n",
    "datetime = pd.to_datetime(df.pop('DatetimeBegin'), format='%Y.%m.%d %H:%M:%S')\n",
    "df.drop(columns=['SO2 Concentration', 'C6H6 Concentration'], inplace=True)\n",
    "df"
   ]
  },
  {
   "attachments": {},
   "cell_type": "markdown",
   "metadata": {},
   "source": [
    "### Scaling"
   ]
  },
  {
   "cell_type": "code",
   "execution_count": 19,
   "metadata": {},
   "outputs": [],
   "source": [
    "scaler = MinMaxScaler()\n",
    "df_original = df.copy()\n",
    "df = scaler.fit_transform(df)"
   ]
  },
  {
   "attachments": {},
   "cell_type": "markdown",
   "metadata": {},
   "source": [
    "### Dataset batching"
   ]
  },
  {
   "cell_type": "code",
   "execution_count": 20,
   "metadata": {},
   "outputs": [
    {
     "name": "stdout",
     "output_type": "stream",
     "text": [
      "x shape: (26281, 24, 4); y shape: (26281, 1)\n"
     ]
    }
   ],
   "source": [
    "trainX = []\n",
    "trainY = []\n",
    "\n",
    "look_back = 24\n",
    "future_n = 1\n",
    "\n",
    "for i in range(look_back, len(df) - future_n + 1):\n",
    "    trainX.append(df[i - look_back: i, 0: df.shape[1]])\n",
    "    trainY.append(df[i + future_n - 1: i + future_n, 0]) # PM10 je zvoleny ako y label\n",
    "\n",
    "trainX = np.array(trainX)\n",
    "trainY = np.array(trainY)\n",
    "print(f'x shape: {trainX.shape}; y shape: {trainY.shape}')"
   ]
  },
  {
   "attachments": {},
   "cell_type": "markdown",
   "metadata": {},
   "source": [
    "### Model creation & training"
   ]
  },
  {
   "cell_type": "code",
   "execution_count": 58,
   "metadata": {},
   "outputs": [
    {
     "name": "stdout",
     "output_type": "stream",
     "text": [
      "Model: \"sequential_1\"\n",
      "_________________________________________________________________\n",
      " Layer (type)                Output Shape              Param #   \n",
      "=================================================================\n",
      " lstm_2 (LSTM)               (None, 24, 60)            15600     \n",
      "                                                                 \n",
      " lstm_3 (LSTM)               (None, 32)                11904     \n",
      "                                                                 \n",
      " dropout_1 (Dropout)         (None, 32)                0         \n",
      "                                                                 \n",
      " dense_1 (Dense)             (None, 1)                 33        \n",
      "                                                                 \n",
      "=================================================================\n",
      "Total params: 27,537\n",
      "Trainable params: 27,537\n",
      "Non-trainable params: 0\n",
      "_________________________________________________________________\n"
     ]
    }
   ],
   "source": [
    "model = tf.keras.Sequential([\n",
    "    LSTM(units=60, activation='relu', input_shape=(trainX.shape[1], trainX.shape[2]), return_sequences=True),\n",
    "    LSTM(units=32, activation='relu', return_sequences=False),\n",
    "    Dropout(0.2),\n",
    "    Dense(units=1)\n",
    "])\n",
    "\n",
    "model.compile(\n",
    "    loss=tf.keras.losses.MeanSquaredError(),\n",
    "    optimizer=tf.keras.optimizers.Adam(),\n",
    "    metrics=[tf.keras.metrics.MeanAbsoluteError(),\n",
    "        tf.keras.metrics.RootMeanSquaredError(),\n",
    "        tf.keras.metrics.MeanAbsolutePercentageError()\n",
    "    ]\n",
    ")\n",
    "model.summary()"
   ]
  },
  {
   "cell_type": "code",
   "execution_count": 59,
   "metadata": {},
   "outputs": [
    {
     "name": "stdout",
     "output_type": "stream",
     "text": [
      "Epoch 1/10\n",
      "1479/1479 [==============================] - 17s 10ms/step - loss: 0.0183 - mean_absolute_error: 0.0966 - root_mean_squared_error: 0.1353 - mean_absolute_percentage_error: 2049.9346 - val_loss: 0.0054 - val_mean_absolute_error: 0.0522 - val_root_mean_squared_error: 0.0737 - val_mean_absolute_percentage_error: 29.3748\n",
      "Epoch 2/10\n",
      "1479/1479 [==============================] - 15s 10ms/step - loss: 0.0092 - mean_absolute_error: 0.0693 - root_mean_squared_error: 0.0958 - mean_absolute_percentage_error: 2080.4236 - val_loss: 0.0055 - val_mean_absolute_error: 0.0519 - val_root_mean_squared_error: 0.0740 - val_mean_absolute_percentage_error: 24.2259\n",
      "Epoch 3/10\n",
      "1479/1479 [==============================] - 15s 10ms/step - loss: 0.0082 - mean_absolute_error: 0.0656 - root_mean_squared_error: 0.0908 - mean_absolute_percentage_error: 4299.4780 - val_loss: 0.0055 - val_mean_absolute_error: 0.0523 - val_root_mean_squared_error: 0.0743 - val_mean_absolute_percentage_error: 23.1585\n",
      "Epoch 4/10\n",
      "1479/1479 [==============================] - 15s 10ms/step - loss: 0.0080 - mean_absolute_error: 0.0647 - root_mean_squared_error: 0.0895 - mean_absolute_percentage_error: 6265.4409 - val_loss: 0.0054 - val_mean_absolute_error: 0.0518 - val_root_mean_squared_error: 0.0732 - val_mean_absolute_percentage_error: 25.7682\n",
      "Epoch 5/10\n",
      "1479/1479 [==============================] - 15s 10ms/step - loss: 0.0078 - mean_absolute_error: 0.0637 - root_mean_squared_error: 0.0881 - mean_absolute_percentage_error: 1892.5315 - val_loss: 0.0061 - val_mean_absolute_error: 0.0568 - val_root_mean_squared_error: 0.0784 - val_mean_absolute_percentage_error: 20.2718\n",
      "Epoch 6/10\n",
      "1479/1479 [==============================] - 15s 10ms/step - loss: 0.0077 - mean_absolute_error: 0.0635 - root_mean_squared_error: 0.0880 - mean_absolute_percentage_error: 1701.5630 - val_loss: 0.0049 - val_mean_absolute_error: 0.0480 - val_root_mean_squared_error: 0.0701 - val_mean_absolute_percentage_error: 19.6899\n",
      "Epoch 7/10\n",
      "1479/1479 [==============================] - 14s 10ms/step - loss: 0.0077 - mean_absolute_error: 0.0633 - root_mean_squared_error: 0.0878 - mean_absolute_percentage_error: 5767.5649 - val_loss: 0.0050 - val_mean_absolute_error: 0.0489 - val_root_mean_squared_error: 0.0708 - val_mean_absolute_percentage_error: 21.5543\n",
      "Epoch 8/10\n",
      "1479/1479 [==============================] - 15s 10ms/step - loss: 0.0076 - mean_absolute_error: 0.0630 - root_mean_squared_error: 0.0873 - mean_absolute_percentage_error: 6230.4380 - val_loss: 0.0059 - val_mean_absolute_error: 0.0546 - val_root_mean_squared_error: 0.0769 - val_mean_absolute_percentage_error: 22.2887\n",
      "Epoch 9/10\n",
      "1479/1479 [==============================] - 15s 10ms/step - loss: 0.0076 - mean_absolute_error: 0.0628 - root_mean_squared_error: 0.0874 - mean_absolute_percentage_error: 1282.6195 - val_loss: 0.0047 - val_mean_absolute_error: 0.0476 - val_root_mean_squared_error: 0.0687 - val_mean_absolute_percentage_error: 26.4068\n",
      "Epoch 10/10\n",
      "1479/1479 [==============================] - 14s 10ms/step - loss: 0.0075 - mean_absolute_error: 0.0623 - root_mean_squared_error: 0.0864 - mean_absolute_percentage_error: 2152.5212 - val_loss: 0.0045 - val_mean_absolute_error: 0.0458 - val_root_mean_squared_error: 0.0674 - val_mean_absolute_percentage_error: 22.9205\n"
     ]
    }
   ],
   "source": [
    "history = model.fit(trainX, trainY, epochs=10, batch_size=16, validation_split=0.1)"
   ]
  },
  {
   "cell_type": "code",
   "execution_count": 60,
   "metadata": {},
   "outputs": [
    {
     "data": {
      "text/plain": [
       "<matplotlib.legend.Legend at 0x1f58613d870>"
      ]
     },
     "execution_count": 60,
     "metadata": {},
     "output_type": "execute_result"
    },
    {
     "data": {
      "image/png": "[encoded data removed]",
      "text/plain": [
       "<Figure size 640x480 with 1 Axes>"
      ]
     },
     "metadata": {},
     "output_type": "display_data"
    }
   ],
   "source": [
    "plt.plot(history.history['loss'], label='Training loss')\n",
    "plt.plot(history.history['val_loss'], label='Validation loss')\n",
    "plt.legend()"
   ]
  },
  {
   "attachments": {},
   "cell_type": "markdown",
   "metadata": {},
   "source": [
    "### Predictions"
   ]
  },
  {
   "cell_type": "code",
   "execution_count": 63,
   "metadata": {},
   "outputs": [
    {
     "name": "stdout",
     "output_type": "stream",
     "text": [
      "8/8 [==============================] - 0s 4ms/step\n",
      "(240, 1)\n"
     ]
    },
    {
     "data": {
      "text/plain": [
       "array([[ 0.28091696],\n",
       "       [ 0.304843  ],\n",
       "       [ 0.25508818],\n",
       "       [ 0.24841091],\n",
       "       [ 0.25019437],\n",
       "       [ 0.2813007 ],\n",
       "       [ 0.27040428],\n",
       "       [ 0.27043378],\n",
       "       [ 0.2553903 ],\n",
       "       [ 0.23104715],\n",
       "       [ 0.1533513 ],\n",
       "       [ 0.24851939],\n",
       "       [ 0.21889985],\n",
       "       [ 0.21818024],\n",
       "       [ 0.29465833],\n",
       "       [ 0.28158295],\n",
       "       [ 0.28388095],\n",
       "       [ 0.28415093],\n",
       "       [ 0.20390625],\n",
       "       [ 0.25656015],\n",
       "       [ 0.30642048],\n",
       "       [ 0.4327621 ],\n",
       "       [ 0.5861184 ],\n",
       "       [ 0.61509085],\n",
       "       [ 0.44559026],\n",
       "       [ 0.20982555],\n",
       "       [ 0.2003326 ],\n",
       "       [ 0.20301309],\n",
       "       [ 0.20759793],\n",
       "       [ 0.18217126],\n",
       "       [ 0.17469786],\n",
       "       [ 0.16907457],\n",
       "       [ 0.0907436 ],\n",
       "       [ 0.07663912],\n",
       "       [ 0.11703569],\n",
       "       [ 0.11373883],\n",
       "       [ 0.14912194],\n",
       "       [ 0.20770712],\n",
       "       [ 0.21395858],\n",
       "       [ 0.14675248],\n",
       "       [ 0.14442736],\n",
       "       [ 0.12773272],\n",
       "       [ 0.15349796],\n",
       "       [ 0.09804663],\n",
       "       [ 0.11679649],\n",
       "       [ 0.07800853],\n",
       "       [ 0.05608812],\n",
       "       [ 0.03733614],\n",
       "       [ 0.06263816],\n",
       "       [ 0.04852113],\n",
       "       [ 0.07272711],\n",
       "       [ 0.10027501],\n",
       "       [ 0.10061115],\n",
       "       [ 0.10266444],\n",
       "       [ 0.11679178],\n",
       "       [ 0.16328824],\n",
       "       [ 0.18414313],\n",
       "       [ 0.1844548 ],\n",
       "       [ 0.17165788],\n",
       "       [ 0.18950373],\n",
       "       [ 0.28313798],\n",
       "       [ 0.32481715],\n",
       "       [ 0.36979207],\n",
       "       [ 0.4130116 ],\n",
       "       [ 0.4631952 ],\n",
       "       [ 0.45418286],\n",
       "       [ 0.41214675],\n",
       "       [ 0.32078522],\n",
       "       [ 0.25793046],\n",
       "       [ 0.27668393],\n",
       "       [ 0.29095745],\n",
       "       [ 0.33154663],\n",
       "       [ 0.3605842 ],\n",
       "       [ 0.39479664],\n",
       "       [ 0.34584147],\n",
       "       [ 0.36204928],\n",
       "       [ 0.3673135 ],\n",
       "       [ 0.41016474],\n",
       "       [ 0.42115805],\n",
       "       [ 0.4845281 ],\n",
       "       [ 0.4519748 ],\n",
       "       [ 0.55817384],\n",
       "       [ 0.6423648 ],\n",
       "       [ 0.63659453],\n",
       "       [ 0.64441496],\n",
       "       [ 0.624336  ],\n",
       "       [ 0.5383178 ],\n",
       "       [ 0.49850094],\n",
       "       [ 0.5475512 ],\n",
       "       [ 0.46257934],\n",
       "       [ 0.50265193],\n",
       "       [ 0.524714  ],\n",
       "       [ 0.5071739 ],\n",
       "       [ 0.5349686 ],\n",
       "       [ 0.5297102 ],\n",
       "       [ 0.6068138 ],\n",
       "       [ 0.58861315],\n",
       "       [ 0.6476944 ],\n",
       "       [ 0.6702932 ],\n",
       "       [ 0.8169471 ],\n",
       "       [ 0.90335333],\n",
       "       [-0.07275057],\n",
       "       [ 0.19973017],\n",
       "       [ 0.18106782],\n",
       "       [ 0.17126557],\n",
       "       [ 0.20244858],\n",
       "       [ 0.18909386],\n",
       "       [ 0.18750753],\n",
       "       [ 0.16382894],\n",
       "       [ 0.17014542],\n",
       "       [ 0.19387919],\n",
       "       [ 0.1653116 ],\n",
       "       [ 0.17442876],\n",
       "       [ 0.15216416],\n",
       "       [ 0.15693708],\n",
       "       [ 0.15722165],\n",
       "       [ 0.1647516 ],\n",
       "       [ 0.19251554],\n",
       "       [ 0.22096358],\n",
       "       [ 0.23306921],\n",
       "       [ 0.25368965],\n",
       "       [ 0.22694597],\n",
       "       [ 0.20685649],\n",
       "       [ 0.19638342],\n",
       "       [ 0.14619952],\n",
       "       [ 0.14301506],\n",
       "       [ 0.13612895],\n",
       "       [ 0.13549924],\n",
       "       [ 0.13809262],\n",
       "       [ 0.55514747],\n",
       "       [ 0.5827911 ],\n",
       "       [ 0.3472518 ],\n",
       "       [ 0.35519582],\n",
       "       [ 0.3163719 ],\n",
       "       [ 0.2617319 ],\n",
       "       [ 0.24971756],\n",
       "       [ 0.2503213 ],\n",
       "       [ 0.2607271 ],\n",
       "       [ 0.29501164],\n",
       "       [ 0.31571686],\n",
       "       [ 0.41592112],\n",
       "       [ 0.42059582],\n",
       "       [ 0.45753035],\n",
       "       [ 0.3235221 ],\n",
       "       [ 0.24798045],\n",
       "       [ 0.24472922],\n",
       "       [ 0.24698573],\n",
       "       [ 0.29326275],\n",
       "       [ 0.48596412],\n",
       "       [ 0.3354694 ],\n",
       "       [ 0.33556804],\n",
       "       [ 0.39658007],\n",
       "       [ 0.3218464 ],\n",
       "       [ 0.34104076],\n",
       "       [ 0.33458278],\n",
       "       [ 0.35146865],\n",
       "       [ 0.35515058],\n",
       "       [ 0.36001688],\n",
       "       [ 0.27177292],\n",
       "       [ 0.33525988],\n",
       "       [ 0.23870648],\n",
       "       [ 0.25647268],\n",
       "       [ 0.2501331 ],\n",
       "       [ 0.40029487],\n",
       "       [ 0.37862116],\n",
       "       [ 0.3594526 ],\n",
       "       [ 0.46452767],\n",
       "       [ 0.44926268],\n",
       "       [ 0.3991419 ],\n",
       "       [ 0.3459026 ],\n",
       "       [ 0.32711887],\n",
       "       [ 0.30626807],\n",
       "       [ 0.3075922 ],\n",
       "       [ 0.30144534],\n",
       "       [ 0.30119807],\n",
       "       [ 0.29985046],\n",
       "       [ 0.31338766],\n",
       "       [ 0.31234813],\n",
       "       [ 0.39369568],\n",
       "       [ 0.48999536],\n",
       "       [ 0.5967551 ],\n",
       "       [ 0.61485887],\n",
       "       [ 0.46207055],\n",
       "       [ 0.35912576],\n",
       "       [ 0.31224534],\n",
       "       [ 0.27795023],\n",
       "       [ 0.29261312],\n",
       "       [ 0.2870216 ],\n",
       "       [ 0.31676096],\n",
       "       [ 0.31989294],\n",
       "       [ 0.34921658],\n",
       "       [ 0.30928415],\n",
       "       [ 0.30277157],\n",
       "       [ 0.30358297],\n",
       "       [ 0.2783687 ],\n",
       "       [ 0.2817262 ],\n",
       "       [ 0.2800812 ],\n",
       "       [ 0.2824881 ],\n",
       "       [ 0.28810734],\n",
       "       [ 0.29129815],\n",
       "       [ 0.37214917],\n",
       "       [ 0.3920061 ],\n",
       "       [ 0.44455507],\n",
       "       [ 0.52749044],\n",
       "       [ 0.4867034 ],\n",
       "       [ 0.44630918],\n",
       "       [ 0.4027808 ],\n",
       "       [ 0.38253704],\n",
       "       [ 0.39190894],\n",
       "       [ 0.37096974],\n",
       "       [ 0.3597837 ],\n",
       "       [ 0.3905694 ],\n",
       "       [ 0.4152803 ],\n",
       "       [ 0.52419776],\n",
       "       [ 0.4569864 ],\n",
       "       [ 0.418892  ],\n",
       "       [ 0.38351178],\n",
       "       [ 0.59570843],\n",
       "       [ 0.39235327],\n",
       "       [ 0.40656805],\n",
       "       [ 0.39781895],\n",
       "       [ 0.47053403],\n",
       "       [ 0.52494335],\n",
       "       [ 0.6251023 ],\n",
       "       [ 0.64543545],\n",
       "       [ 0.51915693],\n",
       "       [ 0.5548412 ],\n",
       "       [ 0.57733333],\n",
       "       [ 0.48495466],\n",
       "       [ 0.5223769 ],\n",
       "       [ 0.50788826],\n",
       "       [ 0.94403934],\n",
       "       [ 0.17744538],\n",
       "       [ 0.40323967],\n",
       "       [ 0.3010122 ],\n",
       "       [ 0.36629042],\n",
       "       [ 0.38637003],\n",
       "       [ 0.41879675],\n",
       "       [ 0.40293705],\n",
       "       [ 0.43035167]], dtype=float32)"
      ]
     },
     "execution_count": 63,
     "metadata": {},
     "output_type": "execute_result"
    }
   ],
   "source": [
    "hours_to_predict = 24\n",
    "past_hours = 24*10\n",
    "\n",
    "y_pred = model.predict(trainX[-past_hours:])\n",
    "print(y_pred.shape)\n",
    "y_pred"
   ]
  },
  {
   "attachments": {},
   "cell_type": "markdown",
   "metadata": {},
   "source": [
    "### Inverse scaling"
   ]
  },
  {
   "cell_type": "code",
   "execution_count": 64,
   "metadata": {},
   "outputs": [],
   "source": [
    "y_pred = np.repeat(y_pred, df.shape[1], axis=-1)\n",
    "y_pred = scaler.inverse_transform(y_pred)[:,0]"
   ]
  },
  {
   "cell_type": "code",
   "execution_count": 71,
   "metadata": {},
   "outputs": [],
   "source": [
    "real_data = df_original['PM10 Concentration'].to_numpy()[-240:]"
   ]
  },
  {
   "cell_type": "code",
   "execution_count": 69,
   "metadata": {},
   "outputs": [
    {
     "data": {
      "text/plain": [
       "array([15.090481 , 16.375534 , 13.703233 , 13.344602 , 13.440389 ,\n",
       "       15.111091 , 14.525851 , 14.527435 , 13.719459 , 12.412004 ,\n",
       "        8.239007 , 13.350428 , 11.75958  , 11.72093  , 15.828522 ,\n",
       "       15.126251 , 15.249675 , 15.264175 , 10.954283 , 13.782291 ,\n",
       "       16.460258 , 23.24599  , 31.482668 , 33.03876  , 23.934984 ,\n",
       "       11.272204 , 10.762343 , 10.906312 , 11.15256  ,  9.786909 ,\n",
       "        9.385517 ,  9.083494 ,  4.8763843,  4.1188407,  6.2885165,\n",
       "        6.1114445,  8.01185  , 11.158425 , 11.494187 ,  7.884588 ,\n",
       "        7.759707 ,  6.863048 ,  8.246883 ,  5.2686257,  6.2756696,\n",
       "        4.1923914,  3.0150592,  2.007902 ,  3.366858 ,  2.608641 ,\n",
       "        3.9087296,  5.3883104,  5.4063644,  5.5166454,  6.2754164,\n",
       "        8.772714 ,  9.8928175,  9.909556 ,  9.222241 , 10.180732 ,\n",
       "       15.20977  , 17.448334 , 19.86391  , 22.185205 , 24.880535 ,\n",
       "       24.396488 , 22.138754 , 17.231781 , 13.855889 , 14.863127 ,\n",
       "       15.629749 , 17.80977  , 19.36936  , 21.20689  , 18.577538 ,\n",
       "       19.44805  , 19.730787 , 22.0323   , 22.622746 , 26.026312 ,\n",
       "       24.277895 , 29.981781 , 34.503628 , 34.19371  , 34.61374  ,\n",
       "       33.535313 , 28.915325 , 26.776787 , 29.411247 , 24.847458 ,\n",
       "       26.999733 , 28.184673 , 27.242605 , 28.735443 , 28.453014 ,\n",
       "       32.594204 , 31.61666  , 34.78988  , 36.003647 , 43.880337 ,\n",
       "       48.521164 , -3.9047894, 10.729988 ,  9.727645 ,  9.201172 ,\n",
       "       10.875992 , 10.158718 , 10.073517 ,  8.801754 ,  9.141008 ,\n",
       "       10.415735 ,  8.881388 ,  9.371064 ,  8.175246 ,  8.431597 ,\n",
       "        8.44688  ,  8.85131  , 10.342494 , 11.870421 , 12.520608 ,\n",
       "       13.6281185, 12.191732 , 11.112739 , 10.550236 ,  7.854889 ,\n",
       "        7.683853 ,  7.3140044,  7.2801833,  7.419472 , 29.819237 ,\n",
       "       31.303959 , 18.653286 , 19.079954 , 16.994743 , 14.060062 ,\n",
       "       13.414781 , 13.4472065, 14.006096 , 15.847498 , 16.959562 ,\n",
       "       22.341473 , 22.592548 , 24.57628  , 17.378777 , 13.321481 ,\n",
       "       13.14686  , 13.268056 , 15.753566 , 26.103441 , 18.02046  ,\n",
       "       18.025757 , 21.302677 , 17.288776 , 18.319695 , 17.97284  ,\n",
       "       18.87977  , 19.077524 , 19.33889  , 14.59936  , 18.009207 ,\n",
       "       12.823382 , 13.777593 , 13.4370985, 21.502197 , 20.338116 ,\n",
       "       19.308582 , 24.952103 , 24.132229 , 21.440271 , 18.58082  ,\n",
       "       17.571959 , 16.452074 , 16.523193 , 16.193048 , 16.179768 ,\n",
       "       16.107388 , 16.834463 , 16.77863  , 21.147758 , 26.319956 ,\n",
       "       32.05396  , 33.0263   , 24.820131 , 19.291029 , 16.77311  ,\n",
       "       14.931139 , 15.718675 , 15.418358 , 17.01564  , 17.183857 ,\n",
       "       18.758812 , 16.614065 , 16.264278 , 16.307858 , 14.953616 ,\n",
       "       15.133945 , 15.045593 , 15.174867 , 15.476671 , 15.648048 ,\n",
       "       19.990509 , 21.057013 , 23.879385 , 28.333794 , 26.143147 ,\n",
       "       23.973598 , 21.635715 , 20.548433 , 21.051794 , 19.927162 ,\n",
       "       19.326366 , 20.979847 , 22.307056 , 28.156946 , 24.547064 ,\n",
       "       22.501038 , 20.600788 , 31.997742 , 21.075659 , 21.839125 ,\n",
       "       21.369217 , 25.2747   , 28.196993 , 33.57647  , 34.66855  ,\n",
       "       27.886208 , 29.802788 , 31.010826 , 26.049223 , 28.059149 ,\n",
       "       27.280973 , 50.706387 ,  9.533085 , 21.66036  , 16.169783 ,\n",
       "       19.675838 , 20.754303 , 22.495922 , 21.644108 , 23.11653  ],\n",
       "      dtype=float32)"
      ]
     },
     "execution_count": 69,
     "metadata": {},
     "output_type": "execute_result"
    }
   ],
   "source": [
    "y_pred"
   ]
  },
  {
   "cell_type": "code",
   "execution_count": 74,
   "metadata": {},
   "outputs": [
    {
     "data": {
      "image/png": "[encoded data removed]",
      "text/plain": [
       "<Figure size 640x480 with 1 Axes>"
      ]
     },
     "metadata": {},
     "output_type": "display_data"
    }
   ],
   "source": [
    "plt.plot(real_data)\n",
    "plt.plot(y_pred)\n",
    "plt.legend(['Real data', 'Predictions'])\n",
    "plt.show()"
   ]
  }
 ],
 "metadata": {
  "kernelspec": {
   "display_name": "BP_env",
   "language": "python",
   "name": "python3"
  },
  "language_info": {
   "codemirror_mode": {
    "name": "ipython",
    "version": 3
   },
   "file_extension": ".py",
   "mimetype": "text/x-python",
   "name": "python",
   "nbconvert_exporter": "python",
   "pygments_lexer": "ipython3",
   "version": "3.10.0"
  },
  "orig_nbformat": 4,
  "vscode": {
   "interpreter": {
    "hash": "a06ad0365e37f41435beec638150542ba9e1a66b568ff6a962b06526dda11f08"
   }
  }
 },
 "nbformat": 4,
 "nbformat_minor": 2
}

{
 "cells": [
  {
   "attachments": {},
   "cell_type": "markdown",
   "metadata": {},
   "source": [
    "### Imports"
   ]
  },
  {
   "cell_type": "code",
   "execution_count": 1,
   "metadata": {},
   "outputs": [],
   "source": [
    "import tensorflow as tf\n",
    "import matplotlib\n",
    "import matplotlib.pyplot as plt\n",
    "import numpy as np\n",
    "import pandas as pd\n",
    "import pydot\n",
    "import seaborn as sns\n",
    "from tensorflow.keras.layers import Input, LSTM, Dense, Dropout\n",
    "from sklearn.base import BaseEstimator, TransformerMixin\n",
    "from sklearn.preprocessing import MinMaxScaler\n",
    "from statsmodels.tsa.seasonal import STL\n",
    "from pandas.tseries.holiday import USFederalHolidayCalendar\n",
    "from pandas.tseries.offsets import CustomBusinessDay"
   ]
  },
  {
   "cell_type": "code",
   "execution_count": 2,
   "metadata": {},
   "outputs": [
    {
     "data": {
      "text/html": [
       "<div>\n",
       "<style scoped>\n",
       "    .dataframe tbody tr th:only-of-type {\n",
       "        vertical-align: middle;\n",
       "    }\n",
       "\n",
       "    .dataframe tbody tr th {\n",
       "        vertical-align: top;\n",
       "    }\n",
       "\n",
       "    .dataframe thead th {\n",
       "        text-align: right;\n",
       "    }\n",
       "</style>\n",
       "<table border=\"1\" class=\"dataframe\">\n",
       "  <thead>\n",
       "    <tr style=\"text-align: right;\">\n",
       "      <th></th>\n",
       "      <th>PM10 Concentration</th>\n",
       "      <th>PM2.5 Concentration</th>\n",
       "      <th>CO Concentration</th>\n",
       "      <th>NO2 Concentration</th>\n",
       "    </tr>\n",
       "  </thead>\n",
       "  <tbody>\n",
       "    <tr>\n",
       "      <th>0</th>\n",
       "      <td>38.942000</td>\n",
       "      <td>39.314600</td>\n",
       "      <td>0.461680</td>\n",
       "      <td>21.605600</td>\n",
       "    </tr>\n",
       "    <tr>\n",
       "      <th>1</th>\n",
       "      <td>52.889000</td>\n",
       "      <td>39.314600</td>\n",
       "      <td>0.432680</td>\n",
       "      <td>21.186900</td>\n",
       "    </tr>\n",
       "    <tr>\n",
       "      <th>2</th>\n",
       "      <td>37.007000</td>\n",
       "      <td>37.668000</td>\n",
       "      <td>0.392080</td>\n",
       "      <td>16.284500</td>\n",
       "    </tr>\n",
       "    <tr>\n",
       "      <th>3</th>\n",
       "      <td>35.837000</td>\n",
       "      <td>37.333000</td>\n",
       "      <td>0.386280</td>\n",
       "      <td>17.324600</td>\n",
       "    </tr>\n",
       "    <tr>\n",
       "      <th>4</th>\n",
       "      <td>34.408000</td>\n",
       "      <td>29.130000</td>\n",
       "      <td>0.363080</td>\n",
       "      <td>15.565600</td>\n",
       "    </tr>\n",
       "    <tr>\n",
       "      <th>...</th>\n",
       "      <td>...</td>\n",
       "      <td>...</td>\n",
       "      <td>...</td>\n",
       "      <td>...</td>\n",
       "    </tr>\n",
       "    <tr>\n",
       "      <th>26300</th>\n",
       "      <td>20.642903</td>\n",
       "      <td>13.122164</td>\n",
       "      <td>0.361663</td>\n",
       "      <td>29.192009</td>\n",
       "    </tr>\n",
       "    <tr>\n",
       "      <th>26301</th>\n",
       "      <td>21.812805</td>\n",
       "      <td>14.244807</td>\n",
       "      <td>0.383440</td>\n",
       "      <td>30.921196</td>\n",
       "    </tr>\n",
       "    <tr>\n",
       "      <th>26302</th>\n",
       "      <td>21.234059</td>\n",
       "      <td>13.375752</td>\n",
       "      <td>0.361133</td>\n",
       "      <td>29.743226</td>\n",
       "    </tr>\n",
       "    <tr>\n",
       "      <th>26303</th>\n",
       "      <td>22.205407</td>\n",
       "      <td>14.307335</td>\n",
       "      <td>0.379205</td>\n",
       "      <td>31.180601</td>\n",
       "    </tr>\n",
       "    <tr>\n",
       "      <th>26304</th>\n",
       "      <td>22.574522</td>\n",
       "      <td>14.661341</td>\n",
       "      <td>0.386072</td>\n",
       "      <td>31.726808</td>\n",
       "    </tr>\n",
       "  </tbody>\n",
       "</table>\n",
       "<p>26305 rows × 4 columns</p>\n",
       "</div>"
      ],
      "text/plain": [
       "       PM10 Concentration  PM2.5 Concentration  CO Concentration  \\\n",
       "0               38.942000            39.314600          0.461680   \n",
       "1               52.889000            39.314600          0.432680   \n",
       "2               37.007000            37.668000          0.392080   \n",
       "3               35.837000            37.333000          0.386280   \n",
       "4               34.408000            29.130000          0.363080   \n",
       "...                   ...                  ...               ...   \n",
       "26300           20.642903            13.122164          0.361663   \n",
       "26301           21.812805            14.244807          0.383440   \n",
       "26302           21.234059            13.375752          0.361133   \n",
       "26303           22.205407            14.307335          0.379205   \n",
       "26304           22.574522            14.661341          0.386072   \n",
       "\n",
       "       NO2 Concentration  \n",
       "0              21.605600  \n",
       "1              21.186900  \n",
       "2              16.284500  \n",
       "3              17.324600  \n",
       "4              15.565600  \n",
       "...                  ...  \n",
       "26300          29.192009  \n",
       "26301          30.921196  \n",
       "26302          29.743226  \n",
       "26303          31.180601  \n",
       "26304          31.726808  \n",
       "\n",
       "[26305 rows x 4 columns]"
      ]
     },
     "execution_count": 2,
     "metadata": {},
     "output_type": "execute_result"
    }
   ],
   "source": [
    "df = pd.read_csv('ready_data.csv')\n",
    "datetime = pd.to_datetime(df.pop('DatetimeBegin'), format='%Y.%m.%d %H:%M:%S')\n",
    "df.drop(columns=['SO2 Concentration', 'C6H6 Concentration'], inplace=True)\n",
    "df"
   ]
  },
  {
   "attachments": {},
   "cell_type": "markdown",
   "metadata": {},
   "source": [
    "### Scaling"
   ]
  },
  {
   "cell_type": "code",
   "execution_count": 3,
   "metadata": {},
   "outputs": [],
   "source": [
    "scaler = MinMaxScaler()\n",
    "df_original = df.copy()\n",
    "df = scaler.fit_transform(df)"
   ]
  },
  {
   "attachments": {},
   "cell_type": "markdown",
   "metadata": {},
   "source": [
    "### Dataset batching"
   ]
  },
  {
   "cell_type": "code",
   "execution_count": 4,
   "metadata": {},
   "outputs": [
    {
     "name": "stdout",
     "output_type": "stream",
     "text": [
      "trainX shape: (21020, 24, 4); trainY shape: (21020, 1)\n",
      "testX shape: (5237, 24, 4)\n"
     ]
    }
   ],
   "source": [
    "df_test = df[int(len(df)*0.8):]\n",
    "df = df[0:int(len(df)*0.8)]\n",
    "\n",
    "trainX = []\n",
    "trainY = []\n",
    "\n",
    "look_back = 24\n",
    "future_n = 1\n",
    "\n",
    "for i in range(look_back, len(df) - future_n + 1):\n",
    "    trainX.append(df[i - look_back: i, 0: df.shape[1]])\n",
    "    trainY.append(df[i + future_n - 1: i + future_n, 0]) # PM10 je zvoleny ako y label\n",
    "\n",
    "trainX = np.array(trainX)\n",
    "trainY = np.array(trainY)\n",
    "print(f'trainX shape: {trainX.shape}; trainY shape: {trainY.shape}')\n",
    "\n",
    "testX = []\n",
    "for i in range(look_back, len(df_test)):\n",
    "    testX.append(df_test[i-look_back: i, 0: df_test.shape[1]])\n",
    "\n",
    "testX = np.array(testX)\n",
    "print(f'testX shape: {testX.shape}')"
   ]
  },
  {
   "attachments": {},
   "cell_type": "markdown",
   "metadata": {},
   "source": [
    "### Model creation & training"
   ]
  },
  {
   "cell_type": "code",
   "execution_count": 6,
   "metadata": {},
   "outputs": [
    {
     "name": "stdout",
     "output_type": "stream",
     "text": [
      "Model: \"sequential_1\"\n",
      "_________________________________________________________________\n",
      " Layer (type)                Output Shape              Param #   \n",
      "=================================================================\n",
      " lstm_2 (LSTM)               (None, 24, 60)            15600     \n",
      "                                                                 \n",
      " lstm_3 (LSTM)               (None, 32)                11904     \n",
      "                                                                 \n",
      " dropout_1 (Dropout)         (None, 32)                0         \n",
      "                                                                 \n",
      " dense_1 (Dense)             (None, 1)                 33        \n",
      "                                                                 \n",
      "=================================================================\n",
      "Total params: 27,537\n",
      "Trainable params: 27,537\n",
      "Non-trainable params: 0\n",
      "_________________________________________________________________\n"
     ]
    }
   ],
   "source": [
    "model = tf.keras.Sequential([\n",
    "    LSTM(units=60, activation='relu', input_shape=(trainX.shape[1], trainX.shape[2]), return_sequences=True),\n",
    "    LSTM(units=32, activation='relu', return_sequences=False),\n",
    "    Dropout(0.2),\n",
    "    Dense(units=1)\n",
    "])\n",
    "\n",
    "model.compile(\n",
    "    loss=tf.keras.losses.MeanSquaredError(),\n",
    "    optimizer=tf.keras.optimizers.Adam(),\n",
    "    metrics=[tf.keras.metrics.MeanAbsoluteError(),\n",
    "        tf.keras.metrics.RootMeanSquaredError(),\n",
    "        tf.keras.metrics.MeanAbsolutePercentageError()\n",
    "    ]\n",
    ")\n",
    "model.summary()"
   ]
  },
  {
   "cell_type": "code",
   "execution_count": 7,
   "metadata": {},
   "outputs": [
    {
     "name": "stdout",
     "output_type": "stream",
     "text": [
      "Epoch 1/10\n",
      "1183/1183 [==============================] - 47s 33ms/step - loss: 0.0178 - mean_absolute_error: 0.0974 - root_mean_squared_error: 0.1336 - mean_absolute_percentage_error: 37.0962 - val_loss: 0.0079 - val_mean_absolute_error: 0.0649 - val_root_mean_squared_error: 0.0891 - val_mean_absolute_percentage_error: 53.8344\n",
      "Epoch 2/10\n",
      "1183/1183 [==============================] - 37s 31ms/step - loss: 0.0102 - mean_absolute_error: 0.0736 - root_mean_squared_error: 0.1009 - mean_absolute_percentage_error: 27.6011 - val_loss: 0.0067 - val_mean_absolute_error: 0.0603 - val_root_mean_squared_error: 0.0820 - val_mean_absolute_percentage_error: 53.2680\n",
      "Epoch 3/10\n",
      "1183/1183 [==============================] - 37s 31ms/step - loss: 0.0090 - mean_absolute_error: 0.0689 - root_mean_squared_error: 0.0950 - mean_absolute_percentage_error: 26.1687 - val_loss: 0.0060 - val_mean_absolute_error: 0.0545 - val_root_mean_squared_error: 0.0775 - val_mean_absolute_percentage_error: 32.5605\n",
      "Epoch 4/10\n",
      "1183/1183 [==============================] - 40s 34ms/step - loss: 0.0086 - mean_absolute_error: 0.0668 - root_mean_squared_error: 0.0925 - mean_absolute_percentage_error: 25.5975 - val_loss: 0.0055 - val_mean_absolute_error: 0.0524 - val_root_mean_squared_error: 0.0743 - val_mean_absolute_percentage_error: 32.8406\n",
      "Epoch 5/10\n",
      "1183/1183 [==============================] - 39s 33ms/step - loss: 0.0085 - mean_absolute_error: 0.0663 - root_mean_squared_error: 0.0919 - mean_absolute_percentage_error: 25.7357 - val_loss: 0.0053 - val_mean_absolute_error: 0.0510 - val_root_mean_squared_error: 0.0730 - val_mean_absolute_percentage_error: 32.5484\n",
      "Epoch 6/10\n",
      "1183/1183 [==============================] - 39s 33ms/step - loss: 0.0084 - mean_absolute_error: 0.0664 - root_mean_squared_error: 0.0919 - mean_absolute_percentage_error: 25.7147 - val_loss: 0.0055 - val_mean_absolute_error: 0.0519 - val_root_mean_squared_error: 0.0742 - val_mean_absolute_percentage_error: 32.7429\n",
      "Epoch 7/10\n",
      "1183/1183 [==============================] - 42s 35ms/step - loss: 0.0083 - mean_absolute_error: 0.0654 - root_mean_squared_error: 0.0909 - mean_absolute_percentage_error: 25.6609 - val_loss: 0.0061 - val_mean_absolute_error: 0.0578 - val_root_mean_squared_error: 0.0782 - val_mean_absolute_percentage_error: 44.4583\n",
      "Epoch 8/10\n",
      "1183/1183 [==============================] - 42s 36ms/step - loss: 0.0082 - mean_absolute_error: 0.0653 - root_mean_squared_error: 0.0906 - mean_absolute_percentage_error: 25.4832 - val_loss: 0.0055 - val_mean_absolute_error: 0.0518 - val_root_mean_squared_error: 0.0744 - val_mean_absolute_percentage_error: 30.8154\n",
      "Epoch 9/10\n",
      "1183/1183 [==============================] - 46s 39ms/step - loss: 0.0083 - mean_absolute_error: 0.0656 - root_mean_squared_error: 0.0911 - mean_absolute_percentage_error: 26.1279 - val_loss: 0.0053 - val_mean_absolute_error: 0.0515 - val_root_mean_squared_error: 0.0731 - val_mean_absolute_percentage_error: 34.0684\n",
      "Epoch 10/10\n",
      "1183/1183 [==============================] - 40s 34ms/step - loss: 0.0082 - mean_absolute_error: 0.0651 - root_mean_squared_error: 0.0904 - mean_absolute_percentage_error: 25.5271 - val_loss: 0.0057 - val_mean_absolute_error: 0.0538 - val_root_mean_squared_error: 0.0755 - val_mean_absolute_percentage_error: 37.7739\n"
     ]
    }
   ],
   "source": [
    "history = model.fit(trainX, trainY, epochs=10, batch_size=16, validation_split=0.1)"
   ]
  },
  {
   "cell_type": "code",
   "execution_count": 8,
   "metadata": {},
   "outputs": [
    {
     "data": {
      "text/plain": [
       "<matplotlib.legend.Legend at 0x297f47bb610>"
      ]
     },
     "execution_count": 8,
     "metadata": {},
     "output_type": "execute_result"
    },
    {
     "data": {
      "image/png": "[encoded data removed]",
      "text/plain": [
       "<Figure size 640x480 with 1 Axes>"
      ]
     },
     "metadata": {},
     "output_type": "display_data"
    }
   ],
   "source": [
    "plt.plot(history.history['loss'], label='Training loss')\n",
    "plt.plot(history.history['val_loss'], label='Validation loss')\n",
    "plt.legend()"
   ]
  },
  {
   "attachments": {},
   "cell_type": "markdown",
   "metadata": {},
   "source": [
    "### Predictions"
   ]
  },
  {
   "cell_type": "code",
   "execution_count": 21,
   "metadata": {},
   "outputs": [
    {
     "name": "stdout",
     "output_type": "stream",
     "text": [
      "8/8 [==============================] - 0s 9ms/step\n",
      "(240, 1)\n"
     ]
    },
    {
     "data": {
      "text/plain": [
       "array([[ 0.2732698 ],\n",
       "       [ 0.29201674],\n",
       "       [ 0.2574392 ],\n",
       "       [ 0.24672332],\n",
       "       [ 0.24861267],\n",
       "       [ 0.27551195],\n",
       "       [ 0.26974818],\n",
       "       [ 0.26777816],\n",
       "       [ 0.2556591 ],\n",
       "       [ 0.23325922],\n",
       "       [ 0.16731906],\n",
       "       [ 0.23687297],\n",
       "       [ 0.22382769],\n",
       "       [ 0.21837942],\n",
       "       [ 0.28287226],\n",
       "       [ 0.28141153],\n",
       "       [ 0.28005782],\n",
       "       [ 0.27879572],\n",
       "       [ 0.21396579],\n",
       "       [ 0.24903324],\n",
       "       [ 0.29438835],\n",
       "       [ 0.41005313],\n",
       "       [ 0.5535773 ],\n",
       "       [ 0.59187937],\n",
       "       [ 0.44417307],\n",
       "       [ 0.21498737],\n",
       "       [ 0.1907815 ],\n",
       "       [ 0.20649645],\n",
       "       [ 0.2067065 ],\n",
       "       [ 0.18524143],\n",
       "       [ 0.17587736],\n",
       "       [ 0.17282692],\n",
       "       [ 0.10616007],\n",
       "       [ 0.08268493],\n",
       "       [ 0.11696088],\n",
       "       [ 0.1177725 ],\n",
       "       [ 0.14794716],\n",
       "       [ 0.20291203],\n",
       "       [ 0.20742702],\n",
       "       [ 0.1518136 ],\n",
       "       [ 0.1469129 ],\n",
       "       [ 0.13135652],\n",
       "       [ 0.15898126],\n",
       "       [ 0.1120193 ],\n",
       "       [ 0.12304249],\n",
       "       [ 0.09032902],\n",
       "       [ 0.06421494],\n",
       "       [ 0.04950655],\n",
       "       [ 0.06937572],\n",
       "       [ 0.05863696],\n",
       "       [ 0.07801287],\n",
       "       [ 0.10235637],\n",
       "       [ 0.10308602],\n",
       "       [ 0.1058661 ],\n",
       "       [ 0.11967599],\n",
       "       [ 0.162658  ],\n",
       "       [ 0.18518052],\n",
       "       [ 0.18606983],\n",
       "       [ 0.17350271],\n",
       "       [ 0.18899149],\n",
       "       [ 0.2753129 ],\n",
       "       [ 0.3216543 ],\n",
       "       [ 0.36244693],\n",
       "       [ 0.40156847],\n",
       "       [ 0.44736373],\n",
       "       [ 0.44278076],\n",
       "       [ 0.40283978],\n",
       "       [ 0.3192175 ],\n",
       "       [ 0.25510898],\n",
       "       [ 0.26909858],\n",
       "       [ 0.28307974],\n",
       "       [ 0.320519  ],\n",
       "       [ 0.35158896],\n",
       "       [ 0.38409406],\n",
       "       [ 0.34231094],\n",
       "       [ 0.3537706 ],\n",
       "       [ 0.3604889 ],\n",
       "       [ 0.39464444],\n",
       "       [ 0.41138023],\n",
       "       [ 0.46829265],\n",
       "       [ 0.45044127],\n",
       "       [ 0.53975344],\n",
       "       [ 0.6217586 ],\n",
       "       [ 0.61715215],\n",
       "       [ 0.6158373 ],\n",
       "       [ 0.5934116 ],\n",
       "       [ 0.5163756 ],\n",
       "       [ 0.4745007 ],\n",
       "       [ 0.5192009 ],\n",
       "       [ 0.4521824 ],\n",
       "       [ 0.47994873],\n",
       "       [ 0.50748646],\n",
       "       [ 0.4919778 ],\n",
       "       [ 0.5126215 ],\n",
       "       [ 0.5024372 ],\n",
       "       [ 0.5867367 ],\n",
       "       [ 0.56880057],\n",
       "       [ 0.62660563],\n",
       "       [ 0.64472175],\n",
       "       [ 0.7618487 ],\n",
       "       [ 0.8330886 ],\n",
       "       [-0.02906811],\n",
       "       [ 0.16740689],\n",
       "       [ 0.19036323],\n",
       "       [ 0.17174464],\n",
       "       [ 0.19997084],\n",
       "       [ 0.18770386],\n",
       "       [ 0.1825415 ],\n",
       "       [ 0.16173212],\n",
       "       [ 0.16473487],\n",
       "       [ 0.18501341],\n",
       "       [ 0.1643407 ],\n",
       "       [ 0.16873354],\n",
       "       [ 0.15268464],\n",
       "       [ 0.15376194],\n",
       "       [ 0.15456122],\n",
       "       [ 0.15973155],\n",
       "       [ 0.18278593],\n",
       "       [ 0.20973179],\n",
       "       [ 0.22214201],\n",
       "       [ 0.24101433],\n",
       "       [ 0.21910557],\n",
       "       [ 0.20433018],\n",
       "       [ 0.19608928],\n",
       "       [ 0.1555224 ],\n",
       "       [ 0.14982316],\n",
       "       [ 0.14569753],\n",
       "       [ 0.1441536 ],\n",
       "       [ 0.1450533 ],\n",
       "       [ 0.507306  ],\n",
       "       [ 0.56324065],\n",
       "       [ 0.34381202],\n",
       "       [ 0.35253674],\n",
       "       [ 0.3227478 ],\n",
       "       [ 0.270364  ],\n",
       "       [ 0.25661135],\n",
       "       [ 0.25535786],\n",
       "       [ 0.2633621 ],\n",
       "       [ 0.29606247],\n",
       "       [ 0.3153481 ],\n",
       "       [ 0.4039896 ],\n",
       "       [ 0.41546002],\n",
       "       [ 0.44274658],\n",
       "       [ 0.32750937],\n",
       "       [ 0.25453645],\n",
       "       [ 0.24586159],\n",
       "       [ 0.24684055],\n",
       "       [ 0.29101527],\n",
       "       [ 0.45568216],\n",
       "       [ 0.329384  ],\n",
       "       [ 0.32323706],\n",
       "       [ 0.37854674],\n",
       "       [ 0.3242939 ],\n",
       "       [ 0.33613127],\n",
       "       [ 0.3359832 ],\n",
       "       [ 0.3498734 ],\n",
       "       [ 0.3556139 ],\n",
       "       [ 0.36255732],\n",
       "       [ 0.2876111 ],\n",
       "       [ 0.32956964],\n",
       "       [ 0.25993973],\n",
       "       [ 0.26225564],\n",
       "       [ 0.25640905],\n",
       "       [ 0.3727899 ],\n",
       "       [ 0.37972072],\n",
       "       [ 0.36009833],\n",
       "       [ 0.45216423],\n",
       "       [ 0.44779074],\n",
       "       [ 0.39805833],\n",
       "       [ 0.34543037],\n",
       "       [ 0.324133  ],\n",
       "       [ 0.30425537],\n",
       "       [ 0.31019026],\n",
       "       [ 0.3054352 ],\n",
       "       [ 0.30302107],\n",
       "       [ 0.30305734],\n",
       "       [ 0.31376094],\n",
       "       [ 0.31286186],\n",
       "       [ 0.38045946],\n",
       "       [ 0.4799198 ],\n",
       "       [ 0.58604497],\n",
       "       [ 0.59700584],\n",
       "       [ 0.44758236],\n",
       "       [ 0.34894627],\n",
       "       [ 0.30772194],\n",
       "       [ 0.2785619 ],\n",
       "       [ 0.2863309 ],\n",
       "       [ 0.2843144 ],\n",
       "       [ 0.31380326],\n",
       "       [ 0.31700966],\n",
       "       [ 0.3430502 ],\n",
       "       [ 0.3155669 ],\n",
       "       [ 0.30400717],\n",
       "       [ 0.30263382],\n",
       "       [ 0.2822694 ],\n",
       "       [ 0.28240657],\n",
       "       [ 0.28212404],\n",
       "       [ 0.28372023],\n",
       "       [ 0.2865657 ],\n",
       "       [ 0.28894258],\n",
       "       [ 0.35431445],\n",
       "       [ 0.38903683],\n",
       "       [ 0.43437123],\n",
       "       [ 0.5167133 ],\n",
       "       [ 0.47586483],\n",
       "       [ 0.43011364],\n",
       "       [ 0.38731307],\n",
       "       [ 0.37608   ],\n",
       "       [ 0.3851436 ],\n",
       "       [ 0.37457114],\n",
       "       [ 0.36158335],\n",
       "       [ 0.38720334],\n",
       "       [ 0.4110612 ],\n",
       "       [ 0.50787747],\n",
       "       [ 0.45204976],\n",
       "       [ 0.4051174 ],\n",
       "       [ 0.3663496 ],\n",
       "       [ 0.5537219 ],\n",
       "       [ 0.38008484],\n",
       "       [ 0.39824215],\n",
       "       [ 0.4007275 ],\n",
       "       [ 0.46732557],\n",
       "       [ 0.5225808 ],\n",
       "       [ 0.61733943],\n",
       "       [ 0.6283    ],\n",
       "       [ 0.5107001 ],\n",
       "       [ 0.5311073 ],\n",
       "       [ 0.5570382 ],\n",
       "       [ 0.48123822],\n",
       "       [ 0.505757  ],\n",
       "       [ 0.4951093 ],\n",
       "       [ 0.8340937 ],\n",
       "       [ 0.19331491],\n",
       "       [ 0.35225382],\n",
       "       [ 0.3010365 ],\n",
       "       [ 0.35304424],\n",
       "       [ 0.38505778],\n",
       "       [ 0.41571575],\n",
       "       [ 0.40962958],\n",
       "       [ 0.42669138]], dtype=float32)"
      ]
     },
     "execution_count": 21,
     "metadata": {},
     "output_type": "execute_result"
    }
   ],
   "source": [
    "hours_to_predict = 24\n",
    "past_hours = 24*10\n",
    "\n",
    "y_pred = model.predict(testX[-past_hours:])\n",
    "print(y_pred.shape)\n",
    "y_pred"
   ]
  },
  {
   "attachments": {},
   "cell_type": "markdown",
   "metadata": {},
   "source": [
    "### Inverse scaling"
   ]
  },
  {
   "cell_type": "code",
   "execution_count": 22,
   "metadata": {},
   "outputs": [],
   "source": [
    "y_pred = np.repeat(y_pred, df.shape[1], axis=-1)\n",
    "y_pred = scaler.inverse_transform(y_pred)[:,0]"
   ]
  },
  {
   "cell_type": "code",
   "execution_count": 30,
   "metadata": {},
   "outputs": [],
   "source": [
    "real_data = df_original[int(len(df_original)*0.8):]\n",
    "real_data = real_data['PM10 Concentration'].to_numpy()[-240:]"
   ]
  },
  {
   "cell_type": "code",
   "execution_count": 31,
   "metadata": {},
   "outputs": [
    {
     "data": {
      "image/png": "[encoded data removed]",
      "text/plain": [
       "<Figure size 640x480 with 1 Axes>"
      ]
     },
     "metadata": {},
     "output_type": "display_data"
    }
   ],
   "source": [
    "plt.plot(real_data)\n",
    "plt.plot(y_pred)\n",
    "plt.legend(['Real data', 'Predictions'])\n",
    "plt.show()"
   ]
  },
  {
   "attachments": {},
   "cell_type": "markdown",
   "metadata": {},
   "source": [
    "TODO:\n",
    "- plotly\n",
    "- metriky"
   ]
  }
 ],
 "metadata": {
  "kernelspec": {
   "display_name": "Python 3.9.5 ('BP_env': venv)",
   "language": "python",
   "name": "python3"
  },
  "language_info": {
   "codemirror_mode": {
    "name": "ipython",
    "version": 3
   },
   "file_extension": ".py",
   "mimetype": "text/x-python",
   "name": "python",
   "nbconvert_exporter": "python",
   "pygments_lexer": "ipython3",
   "version": "3.9.5"
  },
  "orig_nbformat": 4,
  "vscode": {
   "interpreter": {
    "hash": "7736f75b18eb7dede59579f6fda51078a7603c7354f2362f4a604ba30129248a"
   }
  }
 },
 "nbformat": 4,
 "nbformat_minor": 2
}

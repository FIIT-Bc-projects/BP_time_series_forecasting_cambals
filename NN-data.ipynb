{
 "cells": [
  {
   "cell_type": "code",
   "execution_count": 1,
   "id": "caring-uruguay",
   "metadata": {},
   "outputs": [],
   "source": [
    "%matplotlib inline\n",
    "\n",
    "import glob\n",
    "import os\n",
    "import pandas as pd\n",
    "import numpy as np\n",
    "import random\n",
    "from datetime import datetime\n",
    "\n",
    "from sklearn.metrics.pairwise import cosine_similarity\n",
    "from statsmodels.tsa.api import ExponentialSmoothing\n",
    "from statsmodels.tsa.seasonal import seasonal_decompose\n",
    "from statsmodels.tsa.seasonal import STL\n",
    "from statsmodels.tsa.stattools import adfuller\n",
    "from statsmodels.graphics.tsaplots import plot_acf, plot_pacf\n",
    "from statsmodels.stats.diagnostic import acorr_ljungbox\n",
    "from pandas.plotting import autocorrelation_plot\n",
    "\n",
    "import matplotlib\n",
    "import matplotlib.pyplot as plt\n",
    "from matplotlib import pyplot\n",
    "matplotlib.style.use('ggplot')\n",
    "\n",
    "import seaborn as sns\n",
    "# sns.set(context='paper', style='whitegrid', color_codes=True)   \n",
    "sns.set_palette(sns.color_palette([\"#017b92\", \"#f97306\", \"#ff0000\"]))  # [\"green\", \"orange\", \"red\"] \n",
    "\n",
    "import warnings\n",
    "warnings.filterwarnings('ignore')\n",
    "\n",
    "plt.rcParams[\"figure.figsize\"] = (20,4)"
   ]
  },
  {
   "cell_type": "markdown",
   "id": "soviet-motion",
   "metadata": {},
   "source": [
    "# Read data"
   ]
  },
  {
   "cell_type": "code",
   "execution_count": 2,
   "id": "pending-macro",
   "metadata": {},
   "outputs": [
    {
     "name": "stdout",
     "output_type": "stream",
     "text": [
      "data/tsv/conn\n",
      "created data= data/w10m-s10m/conn.tsv\n",
      "\n",
      "data/tsv/dns\n",
      "created data= data/w10m-s10m/dns.tsv\n",
      "\n",
      "data/tsv/hpc\n",
      "created data= data/w10m-s10m/hpc.tsv\n",
      "\n",
      "data/tsv/http\n",
      "created data= data/w10m-s10m/http.tsv\n",
      "\n",
      "data/tsv/sip\n",
      "created data= data/w10m-s10m/sip.tsv\n",
      "\n",
      "data/tsv/ssh\n",
      "created data= data/w10m-s10m/ssh.tsv\n",
      "\n",
      "data/tsv/ssl\n",
      "created data= data/w10m-s10m/ssl.tsv\n",
      "\n",
      "filled 252 missing rows (was 26388)\n",
      "\n",
      " created data= data/hpc-data.tsv\n",
      "\n",
      "3 ['window_start', 'window_end', 'hpc_cores']\n",
      "<class 'pandas.core.frame.DataFrame'>\n",
      "RangeIndex: 26640 entries, 0 to 26639\n",
      "Data columns (total 1 columns):\n",
      " #   Column     Non-Null Count  Dtype  \n",
      "---  ------     --------------  -----  \n",
      " 0   hpc_cores  26640 non-null  float64\n",
      "dtypes: float64(1)\n",
      "memory usage: 208.2 KB\n"
     ]
    }
   ],
   "source": [
    "import mods_utils\n",
    "data_select_query = 'hpc|sum_value~cores#window_start,window_end'\n",
    "\n",
    "mods_utils.create_files_from_tsv(\n",
    "    output_dir='data/', \n",
    "    ws_choice='w10m-s10m', \n",
    "    app_data_features='data/tsv/', \n",
    "    time_range_begin ='20160701', # 20140315\n",
    "    time_range_end   ='20170101', # 20170101\n",
    "    time_range_excluded=[],\n",
    ")\n",
    "mods_utils.merge_files_on_cols(\n",
    "    output_filename='data/hpc-data.tsv', \n",
    "    data_pool='data/w10m-s10m',\n",
    "    data_select_query=data_select_query\n",
    ")\n",
    "fn = 'data/hpc-data.tsv'\n",
    "df = pd.read_csv(fn, sep='\\t')\n",
    "\n",
    "df.info()"
   ]
  },
  {
   "cell_type": "code",
   "execution_count": 3,
   "id": "artificial-shower",
   "metadata": {},
   "outputs": [
    {
     "data": {
      "text/html": [
       "<div>\n",
       "<style scoped>\n",
       "    .dataframe tbody tr th:only-of-type {\n",
       "        vertical-align: middle;\n",
       "    }\n",
       "\n",
       "    .dataframe tbody tr th {\n",
       "        vertical-align: top;\n",
       "    }\n",
       "\n",
       "    .dataframe thead th {\n",
       "        text-align: right;\n",
       "    }\n",
       "</style>\n",
       "<table border=\"1\" class=\"dataframe\">\n",
       "  <thead>\n",
       "    <tr style=\"text-align: right;\">\n",
       "      <th></th>\n",
       "      <th>hpc_cores</th>\n",
       "    </tr>\n",
       "  </thead>\n",
       "  <tbody>\n",
       "    <tr>\n",
       "      <th>count</th>\n",
       "      <td>26640.000000</td>\n",
       "    </tr>\n",
       "    <tr>\n",
       "      <th>mean</th>\n",
       "      <td>279.938213</td>\n",
       "    </tr>\n",
       "    <tr>\n",
       "      <th>std</th>\n",
       "      <td>220.407545</td>\n",
       "    </tr>\n",
       "    <tr>\n",
       "      <th>min</th>\n",
       "      <td>0.000000</td>\n",
       "    </tr>\n",
       "    <tr>\n",
       "      <th>25%</th>\n",
       "      <td>144.000000</td>\n",
       "    </tr>\n",
       "    <tr>\n",
       "      <th>50%</th>\n",
       "      <td>216.000000</td>\n",
       "    </tr>\n",
       "    <tr>\n",
       "      <th>75%</th>\n",
       "      <td>360.000000</td>\n",
       "    </tr>\n",
       "    <tr>\n",
       "      <th>max</th>\n",
       "      <td>1145.000000</td>\n",
       "    </tr>\n",
       "  </tbody>\n",
       "</table>\n",
       "</div>"
      ],
      "text/plain": [
       "          hpc_cores\n",
       "count  26640.000000\n",
       "mean     279.938213\n",
       "std      220.407545\n",
       "min        0.000000\n",
       "25%      144.000000\n",
       "50%      216.000000\n",
       "75%      360.000000\n",
       "max     1145.000000"
      ]
     },
     "execution_count": 3,
     "metadata": {},
     "output_type": "execute_result"
    }
   ],
   "source": [
    "df.describe()"
   ]
  },
  {
   "cell_type": "code",
   "execution_count": 4,
   "id": "naval-huntington",
   "metadata": {},
   "outputs": [],
   "source": [
    "# sns.displot(df['ssl_count_uid_in'], kde=True)\n",
    "# df.plot(y='ssl_count_uid_in', use_index=True)"
   ]
  },
  {
   "cell_type": "markdown",
   "id": "brown-serve",
   "metadata": {},
   "source": [
    "# Data cleaning"
   ]
  },
  {
   "cell_type": "markdown",
   "id": "damaged-exercise",
   "metadata": {},
   "source": [
    "### Remove internal protocols"
   ]
  },
  {
   "cell_type": "code",
   "execution_count": 5,
   "id": "pleased-twist",
   "metadata": {},
   "outputs": [
    {
     "name": "stdout",
     "output_type": "stream",
     "text": [
      "Remove internal columns: 0\n"
     ]
    },
    {
     "data": {
      "text/plain": [
       "[]"
      ]
     },
     "execution_count": 5,
     "metadata": {},
     "output_type": "execute_result"
    }
   ],
   "source": [
    "internal_cols = [col for col in df.columns if 'internal' in col ]\n",
    "\n",
    "# drop them\n",
    "print('Remove internal columns:', len(internal_cols))\n",
    "df.drop(columns=internal_cols, inplace=True)\n",
    "internal_cols"
   ]
  },
  {
   "cell_type": "markdown",
   "id": "wooden-birmingham",
   "metadata": {},
   "source": [
    "### DNS temporary removing"
   ]
  },
  {
   "cell_type": "code",
   "execution_count": 6,
   "id": "bibliographic-event",
   "metadata": {},
   "outputs": [
    {
     "name": "stdout",
     "output_type": "stream",
     "text": [
      "Remove temporary columns: 0\n"
     ]
    }
   ],
   "source": [
    "# conn_count_uid = conn_nunique_uid\n",
    "# dns_count_proto = dns_count_query = dns_count_uid = dns_TC_F\n",
    "# sip_count = sip_nunique\n",
    "# sip_nunique_uid = sip_count_id.orig_h = sip_count_id.orig_p = sip_count_id.resp_h = sip_count_id.resp_h\n",
    "\n",
    "test_dns_removing = True\n",
    "\n",
    "if test_dns_removing:\n",
    "    tmp_cols = []\n",
    "    for col in df.columns:\n",
    "        if  ('dns_A' in col)  or\\\n",
    "            ('dns_R' in col) or\\\n",
    "            ('dns_T' in col) or\\\n",
    "            ('dns_count_proto' in col) or\\\n",
    "            ('dns_count_query' in col) or\\\n",
    "            ('dns_rejected' in col):\n",
    "            tmp_cols.append(col)\n",
    "\n",
    "    # drop them\n",
    "    print('Remove temporary columns:', len(tmp_cols))\n",
    "    tmp_cols = list(tmp_cols)\n",
    "    df.drop(columns=tmp_cols, inplace=True)\n",
    "    tmp_cols"
   ]
  },
  {
   "cell_type": "markdown",
   "id": "boxed-journal",
   "metadata": {},
   "source": [
    "### Remove duplicated columns"
   ]
  },
  {
   "cell_type": "code",
   "execution_count": 7,
   "id": "future-administration",
   "metadata": {},
   "outputs": [
    {
     "name": "stdout",
     "output_type": "stream",
     "text": [
      "hpc_cores\n",
      "Remove duplicated columns: 0\n"
     ]
    },
    {
     "data": {
      "text/plain": [
       "[]"
      ]
     },
     "execution_count": 7,
     "metadata": {},
     "output_type": "execute_result"
    }
   ],
   "source": [
    "duplicateColumnNames = set()\n",
    "# df = df.reindex(sorted(df.columns), axis=1)\n",
    "\n",
    "for i in range(df.shape[1]):\n",
    "    print(df.columns[i])\n",
    "    col = df.iloc[:, i]\n",
    "    for j in range(i + 1, df.shape[1]):\n",
    "        otherCol = df.iloc[:, j]\n",
    "        if col.equals(otherCol):\n",
    "            print('\\t', df.columns[j])\n",
    "            duplicateColumnNames.add(df.columns.values[j])\n",
    "\n",
    "dup_cols = list(duplicateColumnNames)\n",
    "print('Remove duplicated columns:', len(dup_cols))\n",
    "\n",
    "# drop them\n",
    "df.drop(columns=dup_cols, inplace=True)\n",
    "dup_cols"
   ]
  },
  {
   "cell_type": "markdown",
   "id": "objective-nation",
   "metadata": {},
   "source": [
    "### Remove columns if it contains less than 2% values"
   ]
  },
  {
   "cell_type": "code",
   "execution_count": 8,
   "id": "classical-picking",
   "metadata": {},
   "outputs": [
    {
     "name": "stdout",
     "output_type": "stream",
     "text": [
      "Remove columns if it contains few unique values (less than 1%): 0\n"
     ]
    }
   ],
   "source": [
    "percent = 2\n",
    "counts = df.nunique()\n",
    "\n",
    "# col_indexes = [i for i,v in enumerate(counts) if (float(v)/df.shape[0]*100) < percent]\n",
    "col_indexes = []\n",
    "for i, v in enumerate(counts):\n",
    "    p = float(v)/df.shape[0]*100\n",
    "    if p < percent:\n",
    "        print('\\t', '{:.2f}'.format(p), df.columns[i])\n",
    "        col_indexes.append(i)\n",
    "\n",
    "col_names = df.columns[col_indexes]\n",
    "print('Remove columns if it contains few unique values (less than 1%):', len(col_names))\n",
    "\n",
    "# drop them\n",
    "df.drop(columns=col_names, inplace=True)"
   ]
  },
  {
   "cell_type": "markdown",
   "id": "objective-amateur",
   "metadata": {},
   "source": [
    "### Remove columns with empty cells more than 5%"
   ]
  },
  {
   "cell_type": "code",
   "execution_count": 9,
   "id": "reasonable-mattress",
   "metadata": {},
   "outputs": [
    {
     "name": "stdout",
     "output_type": "stream",
     "text": [
      "hpc_cores    0\n",
      "dtype: int64\n",
      "Remove columns with empty cells more than 5%: 0\n"
     ]
    },
    {
     "data": {
      "text/plain": [
       "[]"
      ]
     },
     "execution_count": 9,
     "metadata": {},
     "output_type": "execute_result"
    }
   ],
   "source": [
    "max_empty_percent = 5\n",
    "print(df.isnull().sum(axis=0))\n",
    "\n",
    "empty_cols = set()\n",
    "for col in df.columns:\n",
    "    percent = df[col].isnull().sum(axis=0) / df.shape[0]*100\n",
    "    if percent > max_empty_percent:\n",
    "        print(col, '\\t', percent)\n",
    "        empty_cols.add(col)\n",
    "        \n",
    "print('Remove columns with empty cells more than 5%:', len(empty_cols))\n",
    "empty_cols = list(empty_cols)\n",
    "df.drop(columns=empty_cols, inplace=True)\n",
    "empty_cols"
   ]
  },
  {
   "cell_type": "markdown",
   "id": "subsequent-terminology",
   "metadata": {},
   "source": [
    "### Interpolate for missing NaN"
   ]
  },
  {
   "cell_type": "code",
   "execution_count": 10,
   "id": "promising-catering",
   "metadata": {
    "scrolled": false
   },
   "outputs": [],
   "source": [
    "df.interpolate(method='time', inplace=True)\n",
    "# df.info()"
   ]
  },
  {
   "cell_type": "markdown",
   "id": "built-service",
   "metadata": {},
   "source": [
    "### Remove similar columns: cosine similarity > 98%"
   ]
  },
  {
   "cell_type": "code",
   "execution_count": 11,
   "id": "dietary-warren",
   "metadata": {},
   "outputs": [
    {
     "name": "stdout",
     "output_type": "stream",
     "text": [
      "Remove (cosine) similar columns to another one: 0\n"
     ]
    },
    {
     "data": {
      "text/plain": [
       "[]"
      ]
     },
     "execution_count": 11,
     "metadata": {},
     "output_type": "execute_result"
    }
   ],
   "source": [
    "max_similarity = 0.98   # in range <0, 1>\n",
    "\n",
    "sim_cols = set()\n",
    "for i in range(df.shape[1]):\n",
    "    col = df.iloc[:, i]\n",
    "    for j in range(i + 1, df.shape[1]):\n",
    "        otherCol = df.iloc[:, j]\n",
    "        cs = cosine_similarity(col.values.reshape(1, -1), otherCol.values.reshape(1, -1))\n",
    "        if cs > max_similarity:\n",
    "            print('\\t', cs, df.columns[i], '\\t', df.columns[j])\n",
    "            sim_cols.add(df.columns.values[j])\n",
    "            \n",
    "print('Remove (cosine) similar columns to another one:', len(sim_cols))\n",
    "sim_cols = list(sim_cols)\n",
    "df.drop(columns=sim_cols, inplace=True)\n",
    "sim_cols"
   ]
  },
  {
   "cell_type": "markdown",
   "id": "contemporary-tension",
   "metadata": {},
   "source": [
    "# Test stationarity and randomness"
   ]
  },
  {
   "cell_type": "markdown",
   "id": "agreed-pulse",
   "metadata": {},
   "source": [
    "### Augmented Dickey-Fuller (ADF) unit root test\n",
    "Augmented Dickey-Fuller (ADF) unit root test is defined as follows:\n",
    "- $H_0$: the data possesses a unit root (random walk) and it is non-stationary.\n",
    "- $H_a$: the data is stationary.\n",
    "\n",
    "Result intepretation:\n",
    "- if ADF statistic test < 1% 5% 10% (Critical Values) then $H_0$ is rejected\n",
    "- if P-Value < 0.05 then $H_0$ is rejected \n",
    "\n",
    "<b>A stationary series</b> is one where the values of the series is not a function of time t.j. \n",
    "the statistical properties of the series like mean, variance and autocorrelation are constant over time. \n",
    "\n",
    "<b>Autocorrelation</b> of the series is the correlation of the series with its previous values"
   ]
  },
  {
   "cell_type": "code",
   "execution_count": 12,
   "id": "brazilian-acrylic",
   "metadata": {},
   "outputs": [
    {
     "name": "stdout",
     "output_type": "stream",
     "text": [
      "\t hpc_cores \tp-value:  2.844338334732236e-13 \tNum of lags:  19\n",
      "1\n"
     ]
    },
    {
     "data": {
      "text/plain": [
       "['hpc_cores']"
      ]
     },
     "execution_count": 12,
     "metadata": {},
     "output_type": "execute_result"
    }
   ],
   "source": [
    "cols_selected = []\n",
    "for col in df.columns:\n",
    "    missing = df[col].isnull().sum()\n",
    "    if not missing:\n",
    "        dftest = adfuller(df[col], autolag = 'AIC')\n",
    "        if (dftest[1] < 0.05) and (dftest[2] > 3):\n",
    "            cols_selected.append(col)\n",
    "            print('\\t', col, '\\tp-value: ', dftest[1], '\\tNum of lags: ', dftest[2])\n",
    "            # print(\"\\t1. ADF : \",dftest[0])\n",
    "            # print(\"\\t2. P-Value : \", dftest[1])\n",
    "            # print(\"\\t3. Num Of Lags : \", dftest[2])\n",
    "            # print(\"\\t4. Num of observations used for ADF regression and Critical Values calculation :\", dftest[3])\n",
    "            # print(\"\\t5. Critical Values :\")\n",
    "            # for key, val in dftest[4].items():\n",
    "            #    print(\"\\t\\t\",key, \": \", val)   \n",
    "        # plot_acf(df[col])\n",
    "        # plt.show()\n",
    "'''\n",
    "tmp = [#'conn_count_uid_in',         # a bit echo, 202008 data, MAPE=16, a bit echo\n",
    "       #'conn_count_uid_out',        # OK, 202008 data, MAPE=12\n",
    "       'conn_mean_duration_in',     # - \n",
    "       'conn_mean_duration_out',    # -\n",
    "       'conn_sum_orig_bytes_in',    # - payload\n",
    "       'conn_sum_orig_bytes_out',   # - payload\n",
    "       'conn_sum_resp_bytes_in',    # - payload\n",
    "       'conn_sum_resp_bytes_out',   # - payload \n",
    "       'dns_count_uid_in',          # -\n",
    "       #'dns_count_uid_out',         # OK, 202008 data, MAPE=32, a bit echo pri vysokych spickach\n",
    "       'dns_nunique_query_in',      # - \n",
    "       'dns_nunique_query_out',     # - \n",
    "       'dns_nunique_uid_in',        # moze byt MAPE=25\n",
    "       #'http_count_uid_in',         # OK, MAPE=30 48 units, 202008 data, MAPE=19 60 units, nice\n",
    "       'http_nunique_uid_out',      # OK, MAPE=60 48 units, 202008 data, MAPE=87 60 units, nice\n",
    "       #'ssl_count_uid_in',          # OK, MAPE=15 48 units, 202008 data, MAPE=21 60 units, nice\n",
    "       'ssl_count_uid_out',         # - \n",
    "      ]\n",
    "'''\n",
    "tmp = []\n",
    "cols_selected = [x for x in cols_selected if x not in tmp]\n",
    "print(len(cols_selected))\n",
    "cols_selected"
   ]
  },
  {
   "cell_type": "code",
   "execution_count": 13,
   "id": "impressive-emperor",
   "metadata": {},
   "outputs": [],
   "source": [
    "# col1 = df['dns_count_uid_in']\n",
    "# col2 = df['dns_nunique_query_in']\n",
    "# col3 = df['dns_nunique_uid_in']\n",
    "# cosine_similarity(col2.values.reshape(1, -1), col3.values.reshape(1, -1))"
   ]
  },
  {
   "cell_type": "markdown",
   "id": "incorporated-pakistan",
   "metadata": {},
   "source": [
    "### Ljung-Box test for randomness\n",
    "Formally, the Ljung-Box test can be defined as follows.\n",
    "- $H_0$: the data is random.\n",
    "- $H_a$: the data is not random.\n",
    "\n",
    "Result intepretation:\n",
    "- if P-Value < 0.05 then $H_0$ is rejected"
   ]
  },
  {
   "cell_type": "code",
   "execution_count": 14,
   "id": "listed-algebra",
   "metadata": {},
   "outputs": [],
   "source": [
    "test_ljungbox = False\n",
    "\n",
    "if test_ljungbox:\n",
    "    cols=cols_selected\n",
    "    for col in cols:\n",
    "        lbvalue, pvalue = acorr_ljungbox(df[col], lags=[3, 6, 24])\n",
    "        if all(p < 0.05 for p in pvalue):\n",
    "            print(col, '\\t', pvalue)"
   ]
  },
  {
   "cell_type": "markdown",
   "id": "normal-fantasy",
   "metadata": {},
   "source": [
    "### White noise\n",
    "<b>White noise:</b> a sequence of completely random numbers with <b>mean zero</b> is a white noise."
   ]
  },
  {
   "cell_type": "code",
   "execution_count": 15,
   "id": "accompanied-mount",
   "metadata": {},
   "outputs": [],
   "source": [
    "test_white_noise = False\n",
    "\n",
    "if test_white_noise:\n",
    "    cols=cols_selected\n",
    "    for col in cols:\n",
    "        series = df[col]\n",
    "        print(series.describe())\n",
    "        plt.rcParams[\"figure.figsize\"] = (15, 12)\n",
    "        series.plot()\n",
    "        series.hist()\n",
    "        autocorrelation_plot(series)\n",
    "        plt.show()"
   ]
  },
  {
   "cell_type": "markdown",
   "id": "hydraulic-victim",
   "metadata": {},
   "source": [
    "### Pearson correlations"
   ]
  },
  {
   "cell_type": "code",
   "execution_count": 16,
   "id": "insured-tradition",
   "metadata": {},
   "outputs": [],
   "source": [
    "# fig, ax = pyplot.subplots(figsize=(8, 6))\n",
    "# sns.heatmap(df[cols_selected].corr(), ax=ax, annot=True, fmt=\".2f\", cmap=\"YlGnBu\")"
   ]
  },
  {
   "cell_type": "markdown",
   "id": "advised-oakland",
   "metadata": {},
   "source": [
    "# Data augmentation"
   ]
  },
  {
   "cell_type": "markdown",
   "id": "satellite-observer",
   "metadata": {},
   "source": [
    "### Clip peaks based on Quartile Range"
   ]
  },
  {
   "cell_type": "code",
   "execution_count": 17,
   "id": "humanitarian-disorder",
   "metadata": {},
   "outputs": [],
   "source": [
    "test_clip = False\n",
    "percent = 0.01\n",
    "\n",
    "if test_clip:   \n",
    "    df.clip(lower=df.quantile(0), upper=df.quantile(1-percent), axis=1, inplace=True)"
   ]
  },
  {
   "cell_type": "markdown",
   "id": "comprehensive-transaction",
   "metadata": {},
   "source": [
    "### Rolling average"
   ]
  },
  {
   "cell_type": "code",
   "execution_count": 18,
   "id": "forced-blanket",
   "metadata": {},
   "outputs": [],
   "source": [
    "test_rolling = False\n",
    "\n",
    "if test_rolling:\n",
    "    cols=cols_selected\n",
    "    df_result = df[cols].rolling(24).mean()    # Simple Moving Average (SMA)\n",
    "    for col in cols:\n",
    "        plt.rcParams[\"figure.figsize\"] = (15, 3)\n",
    "        df_result[col].plot(y=col, use_index=True)\n",
    "        plt.show()"
   ]
  },
  {
   "cell_type": "markdown",
   "id": "angry-removal",
   "metadata": {},
   "source": [
    "### Exponential moving average (EMA) "
   ]
  },
  {
   "cell_type": "code",
   "execution_count": 19,
   "id": "compatible-fiber",
   "metadata": {},
   "outputs": [],
   "source": [
    "test_ema = False\n",
    "\n",
    "if test_ema:\n",
    "    df_result = pd.DataFrame()\n",
    "    for col in cols:\n",
    "        EMA_fit = ExponentialSmoothing(df[col], seasonal_periods=24, trend='add', seasonal='add').fit(use_boxcox=True)\n",
    "        df_result[col] = EMA_fit.forecast(24) \n",
    "        \n",
    "        plt.rcParams[\"figure.figsize\"] = (15, 3)\n",
    "        df_result[col].plot(y=col, use_index=True)\n",
    "        plt.show()"
   ]
  },
  {
   "cell_type": "markdown",
   "id": "abroad-theta",
   "metadata": {},
   "source": [
    "### Trend and seasonal: Additive Decomposition"
   ]
  },
  {
   "cell_type": "code",
   "execution_count": 20,
   "id": "north-romania",
   "metadata": {},
   "outputs": [],
   "source": [
    "test_decompose = False\n",
    "\n",
    "if test_decompose:\n",
    "    cols=cols_selected\n",
    "    df_result = pd.DataFrame()\n",
    "    for col in cols:\n",
    "        column = df[col]\n",
    "        result = seasonal_decompose(column, period=6, model='additive')\n",
    "        df_result[col] = result.trend + result.seasonal\n",
    "        \n",
    "        plt.rcParams[\"figure.figsize\"] = (15, 12)\n",
    "        result.plot()\n",
    "        plt.show()"
   ]
  },
  {
   "cell_type": "markdown",
   "id": "classical-castle",
   "metadata": {},
   "source": [
    "### Seasonal-Trend decomposition using LOESS (STL)\n",
    "- LOESS (locally estimated scatterplot smoothing)"
   ]
  },
  {
   "cell_type": "code",
   "execution_count": 21,
   "id": "regulated-causing",
   "metadata": {},
   "outputs": [],
   "source": [
    "test_stl = False\n",
    "\n",
    "if test_stl:\n",
    "    cols=cols_selected\n",
    "    df_result = pd.DataFrame()\n",
    "    for col in cols:\n",
    "        result = STL(df[col], period=24, robust=True).fit()    # remove_peak = False\n",
    "        df_result[col] = result.trend + result.seasonal\n",
    "\n",
    "        # result = STL(column, period=24, robust=True).fit()    # remove_peak = False\n",
    "        # df_result[col] = result.trend + result.seasonal\n",
    "\n",
    "        plt.rcParams[\"figure.figsize\"] = (15, 12)\n",
    "        result.plot()\n",
    "        plt.show()"
   ]
  },
  {
   "cell_type": "markdown",
   "id": "cordless-rings",
   "metadata": {},
   "source": [
    "# Data visualization"
   ]
  },
  {
   "cell_type": "code",
   "execution_count": 22,
   "id": "former-atmosphere",
   "metadata": {},
   "outputs": [
    {
     "name": "stdout",
     "output_type": "stream",
     "text": [
      "<class 'pandas.core.frame.DataFrame'>\n",
      "RangeIndex: 26640 entries, 0 to 26639\n",
      "Data columns (total 1 columns):\n",
      " #   Column     Non-Null Count  Dtype  \n",
      "---  ------     --------------  -----  \n",
      " 0   hpc_cores  26640 non-null  float64\n",
      "dtypes: float64(1)\n",
      "memory usage: 208.2 KB\n",
      "None\n"
     ]
    },
    {
     "data": {
      "text/plain": [
       "<AxesSubplot:>"
      ]
     },
     "execution_count": 22,
     "metadata": {},
     "output_type": "execute_result"
    },
    {
     "data": {
      "image/png": "[encoded data removed]",
      "text/plain": [
       "<Figure size 1224x360 with 1 Axes>"
      ]
     },
     "metadata": {},
     "output_type": "display_data"
    }
   ],
   "source": [
    "if not (test_rolling or test_decompose or test_stl):\n",
    "    df_result = df[cols_selected]\n",
    "    \n",
    "print(df_result.info())\n",
    "plt.rcParams[\"figure.figsize\"] = (17, 5)\n",
    "df_result.plot(use_index=True)"
   ]
  },
  {
   "cell_type": "markdown",
   "id": "behind-rebate",
   "metadata": {},
   "source": [
    "# Train, validation and test data"
   ]
  },
  {
   "cell_type": "code",
   "execution_count": 23,
   "id": "brazilian-casting",
   "metadata": {},
   "outputs": [
    {
     "name": "stdout",
     "output_type": "stream",
     "text": [
      "(25640, 1) (1000, 1)\n"
     ]
    },
    {
     "data": {
      "text/html": [
       "<div>\n",
       "<style scoped>\n",
       "    .dataframe tbody tr th:only-of-type {\n",
       "        vertical-align: middle;\n",
       "    }\n",
       "\n",
       "    .dataframe tbody tr th {\n",
       "        vertical-align: top;\n",
       "    }\n",
       "\n",
       "    .dataframe thead th {\n",
       "        text-align: right;\n",
       "    }\n",
       "</style>\n",
       "<table border=\"1\" class=\"dataframe\">\n",
       "  <thead>\n",
       "    <tr style=\"text-align: right;\">\n",
       "      <th></th>\n",
       "      <th>hpc_cores</th>\n",
       "    </tr>\n",
       "  </thead>\n",
       "  <tbody>\n",
       "    <tr>\n",
       "      <th>25640</th>\n",
       "      <td>72.0</td>\n",
       "    </tr>\n",
       "    <tr>\n",
       "      <th>25641</th>\n",
       "      <td>72.0</td>\n",
       "    </tr>\n",
       "    <tr>\n",
       "      <th>25642</th>\n",
       "      <td>72.0</td>\n",
       "    </tr>\n",
       "    <tr>\n",
       "      <th>25643</th>\n",
       "      <td>72.0</td>\n",
       "    </tr>\n",
       "    <tr>\n",
       "      <th>25644</th>\n",
       "      <td>72.0</td>\n",
       "    </tr>\n",
       "    <tr>\n",
       "      <th>...</th>\n",
       "      <td>...</td>\n",
       "    </tr>\n",
       "    <tr>\n",
       "      <th>26635</th>\n",
       "      <td>0.0</td>\n",
       "    </tr>\n",
       "    <tr>\n",
       "      <th>26636</th>\n",
       "      <td>0.0</td>\n",
       "    </tr>\n",
       "    <tr>\n",
       "      <th>26637</th>\n",
       "      <td>0.0</td>\n",
       "    </tr>\n",
       "    <tr>\n",
       "      <th>26638</th>\n",
       "      <td>0.0</td>\n",
       "    </tr>\n",
       "    <tr>\n",
       "      <th>26639</th>\n",
       "      <td>0.0</td>\n",
       "    </tr>\n",
       "  </tbody>\n",
       "</table>\n",
       "<p>1000 rows × 1 columns</p>\n",
       "</div>"
      ],
      "text/plain": [
       "       hpc_cores\n",
       "25640       72.0\n",
       "25641       72.0\n",
       "25642       72.0\n",
       "25643       72.0\n",
       "25644       72.0\n",
       "...          ...\n",
       "26635        0.0\n",
       "26636        0.0\n",
       "26637        0.0\n",
       "26638        0.0\n",
       "26639        0.0\n",
       "\n",
       "[1000 rows x 1 columns]"
      ]
     },
     "execution_count": 23,
     "metadata": {},
     "output_type": "execute_result"
    }
   ],
   "source": [
    "create_valid_data = False\n",
    "n = len(df.index)\n",
    "m = 1000\n",
    "\n",
    "if create_valid_data:\n",
    "    df_train = df_result[:n-2*m]\n",
    "    df_valid = df_result[n-2*m: n-m]\n",
    "    df_test  = df_result.tail(m)\n",
    "    print(df_train.shape, df_valid.shape, df_test.shape)\n",
    "    \n",
    "    df_train.to_csv('data/hpc-data_train.tsv', float_format='%.0f', sep='\\t', index = False, header=True)\n",
    "    df_valid.to_csv('data/hpc-data_valid.tsv', float_format='%.0f', sep='\\t', index = False, header=True)\n",
    "    df_test.to_csv( 'data/hpc-data_test.tsv',  float_format='%.0f', sep='\\t', index = False, header=True)\n",
    "else:\n",
    "    df_train = df_result[:n-m]\n",
    "    df_test  = df_result.tail(m)\n",
    "    print(df_train.shape, df_test.shape)\n",
    "\n",
    "    df_train.to_csv('data/hpc-data_train.tsv', float_format='%.0f', sep='\\t', index = False, header=True)\n",
    "    df_test.to_csv( 'data/hpc-data_test.tsv',  float_format='%.0f', sep='\\t', index = False, header=True)\n",
    "\n",
    "df_test"
   ]
  },
  {
   "cell_type": "markdown",
   "id": "small-declaration",
   "metadata": {},
   "source": [
    "# Another covid test"
   ]
  },
  {
   "cell_type": "code",
   "execution_count": 24,
   "id": "better-surge",
   "metadata": {},
   "outputs": [],
   "source": [
    "testy = pd.Series([378, 66, 76, 69, 111, 97, 95, 58, 197, 289, 159, 318, 225, 301, 368, 440, 242, 451, 476, 335, 913, 747, 720, 401, 688, 877, 1191, 1454, 1889, 1524, 1036, 1448, 2042, 1690, 2301, 2174, 1580, 1324, 1302, 1439, 2967, 3351, 3144, 3323, 2458, 2694, 3468, 4525, 3840, 4828, 4839, 3171, 1767, 5472, 4584, 5150, 3698, 1450, 1584, 2060, 4742, 5161, 4694, 3910, 1488, 786, 2063, 4326, 4876, 3992, 4084, 2476, 971, 2041, 3371, 2933, 2751, 2236, 1649, 645, 1464, 2839, 2352, 1848, 3433, 1606, 274, 6418, 2336, 2135, 1832, 2639, 1180, 160, 851, 1545, 1500, 1262, 1511, 479, 47, 847, 1163, 787, 806, 1278, 301, 41, 661, 1257, 936, 1515, 1611, 931, 62, 784, 2063, 1708, 1801, 2216, 808, 50, 873, 2225, 2284, 2172, 2879, 960, 279, 1163, 2205, 2336, 1862, 2161, 410, 24, 3333, 2571, 2251, 2049, 2275, 767, 216, 1548, 2296, 1851, 2176, 2884, 585, 766, 1320, 2538, 2667, 2473, 3099, 1068, 564, 1454, 3131, 2741, 2738, 3235, 2013, 481, 1583, 3684, 3435, 3245, 3833, 1723, 929, 2103, 4090, 3636, 4360, 4453, 1951, 588, 2763, 2428, 3519, 4772, 5947, 2462, 922, 2891, 5309, 5021, 4266, 6191, 3080, 1425, 4323, 3235, 4027, 5542, 5750, 3443, 1952, 2664, 6231, 5213, 5540, 6483, 5655])\n",
    "prirastky = pd.Series([1, 2, 2, 2, 0, 3, 11, 11, 12, 17, 11, 24, 8, 19, 14, 41, 7, 19, 12, 10, 43, 23, 22, 22, 27, 37, 26, 24, 21, 14, 49, 47, 101, 19, 14, 13, 14, 27, 66, 28, 114, 72, 40, 72, 12, 26, 45, 81, 35, 13, 6, 2, 3, 7, 5, 7, 4, 1, 5, 8, 8, 16, 10, 0, 2, 0, 8, 4, 8, 3, 13, 1, 1, 0, 1, 6, 1, 1, 5, 2, 2, 2, 5, 0, 1, 0, 1, 0, 3, 1, 0, 2, 0, 2, 1, 2, 8, 1, 3, 3, 4, 0, 9, 1, 14, 10, 1, 1, 1, 18, 23, 13, 14, 7, 1, 2, 20, 13, 20, 29, 15, 1, 2, 31, 53, 19, 23, 8, 1, 6, 19, 24, 14, 11, 3, 1, 41, 37, 31, 29, 23, 38, 2, 23, 41, 20, 27, 45, 7, 10, 14, 49, 63, 43, 43, 30, 3, 16, 75, 49, 62, 54, 47, 5, 15, 100, 80, 123, 91, 40, 68, 28, 84, 90, 102, 114, 34, 41, 72, 53, 121, 137, 226, 88, 22, 91, 161, 178, 186, 201, 79, 48, 188, 92, 161, 235, 290, 131, 79, 175, 338, 360, 419, 552, 478])\n",
    "\n",
    "df_testy = testy.to_frame()\n",
    "df_prirastky = prirastky.to_frame()\n",
    "df2 = pd.concat([df_testy, df_prirastky], axis=1)\n",
    "df2.columns = ['testy', 'prirastky']\n",
    "# df2"
   ]
  },
  {
   "cell_type": "code",
   "execution_count": 25,
   "id": "coordinated-class",
   "metadata": {},
   "outputs": [
    {
     "data": {
      "text/plain": [
       "<AxesSubplot:xlabel='testy', ylabel='prirastky'>"
      ]
     },
     "execution_count": 25,
     "metadata": {},
     "output_type": "execute_result"
    },
    {
     "data": {
      "image/png": "[encoded data removed]",
      "text/plain": [
       "<Figure size 1224x360 with 1 Axes>"
      ]
     },
     "metadata": {},
     "output_type": "display_data"
    }
   ],
   "source": [
    "sns.regplot(data=df2, x='testy', y='prirastky')"
   ]
  }
 ],
 "metadata": {
  "kernelspec": {
   "display_name": "Python 3",
   "language": "python",
   "name": "python3"
  },
  "language_info": {
   "codemirror_mode": {
    "name": "ipython",
    "version": 3
   },
   "file_extension": ".py",
   "mimetype": "text/x-python",
   "name": "python",
   "nbconvert_exporter": "python",
   "pygments_lexer": "ipython3",
   "version": "3.8.5"
  }
 },
 "nbformat": 4,
 "nbformat_minor": 5
}
